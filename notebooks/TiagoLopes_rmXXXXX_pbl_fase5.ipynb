{
 "cells": [
  {
   "cell_type": "markdown",
   "id": "d9059bc7",
   "metadata": {},
   "source": [
    "# Fase 5 — EDA, Clusterização e Regressão\n",
    "**Aluno:** Tiago Lopes (rmXXXXX) — **Projeto:** FarmTech Fase 5\n",
    "\n",
    "> Coloque o arquivo `../data/crop_yield.csv` antes de executar."
   ]
  },
  {
   "cell_type": "code",
   "execution_count": null,
   "id": "a04d375e",
   "metadata": {},
   "outputs": [],
   "source": [
    "import pandas as pd\n",
    "import numpy as np\n",
    "\n",
    "import matplotlib.pyplot as plt\n",
    "import seaborn as sns\n",
    "\n",
    "from sklearn.model_selection import train_test_split\n",
    "from sklearn.preprocessing import StandardScaler\n",
    "from sklearn.cluster import KMeans\n",
    "from sklearn.metrics import r2_score, mean_squared_error, mean_absolute_error\n",
    "\n",
    "from sklearn.linear_model import LinearRegression, Ridge, Lasso\n",
    "from sklearn.tree import DecisionTreeRegressor\n",
    "from sklearn.ensemble import RandomForestRegressor, GradientBoostingRegressor\n",
    "\n",
    "try:\n",
    "    import xgboost as xgb\n",
    "    HAS_XGB = True\n",
    "except Exception:\n",
    "    HAS_XGB = False\n",
    "\n",
    "# Configs\n",
    "pd.set_option('display.max_columns', None)\n",
    "sns.set()"
   ]
  },
  {
   "cell_type": "markdown",
   "id": "1da08aa0",
   "metadata": {},
   "source": [
    "## 1) Carregamento do Dataset"
   ]
  },
  {
   "cell_type": "code",
   "execution_count": null,
   "id": "7fddf3b6",
   "metadata": {},
   "outputs": [],
   "source": [
    "# Ajuste o caminho se necessário\n",
    "DATA_PATH = '../data/crop_yield.csv'\n",
    "df = pd.read_csv(DATA_PATH)\n",
    "\n",
    "print('Shape:', df.shape)\n",
    "display(df.head())"
   ]
  },
  {
   "cell_type": "markdown",
   "id": "9f216d4c",
   "metadata": {},
   "source": [
    "## 2) EDA — Estrutura, Resumo e Nulos"
   ]
  },
  {
   "cell_type": "code",
   "execution_count": null,
   "id": "4d9cddda",
   "metadata": {},
   "outputs": [],
   "source": [
    "display(df.info())\n",
    "display(df.describe().T)\n",
    "\n",
    "nulos = df.isna().sum().sort_values(ascending=False)\n",
    "display(nulos.to_frame('missing'))"
   ]
  },
  {
   "cell_type": "markdown",
   "id": "1858754e",
   "metadata": {},
   "source": [
    "### 2.1) Histogramas das Variáveis Numéricas"
   ]
  },
  {
   "cell_type": "code",
   "execution_count": null,
   "id": "6fffdfa4",
   "metadata": {},
   "outputs": [],
   "source": [
    "num_cols = df.select_dtypes(include=[np.number]).columns.tolist()\n",
    "for col in num_cols:\n",
    "    plt.figure()\n",
    "    df[col].hist(bins=30)\n",
    "    plt.title(f'Histograma: {col}')\n",
    "    plt.xlabel(col)\n",
    "    plt.ylabel('Frequência')\n",
    "    plt.show()"
   ]
  },
  {
   "cell_type": "markdown",
   "id": "99c687e7",
   "metadata": {},
   "source": [
    "### 2.2) Boxplots para Outliers"
   ]
  },
  {
   "cell_type": "code",
   "execution_count": null,
   "id": "46df0232",
   "metadata": {},
   "outputs": [],
   "source": [
    "for col in num_cols:\n",
    "    plt.figure()\n",
    "    sns.boxplot(x=df[col])\n",
    "    plt.title(f'Boxplot: {col}')\n",
    "    plt.show()"
   ]
  },
  {
   "cell_type": "markdown",
   "id": "51f6181b",
   "metadata": {},
   "source": [
    "### 2.3) Scatterplots (Ex.: temperatura × rendimento)"
   ]
  },
  {
   "cell_type": "code",
   "execution_count": null,
   "id": "b0f654a6",
   "metadata": {},
   "outputs": [],
   "source": [
    "# Tente adivinhar colunas comuns; ajuste para o seu dataset\n",
    "candidate_x = None\n",
    "for name in ['temperatura','temperature','temp','avg_temp','t_avg']:\n",
    "    if name in df.columns:\n",
    "        candidate_x = name\n",
    "        break\n",
    "\n",
    "candidate_y = None\n",
    "for name in ['rendimento','yield','yld','produtividade']:\n",
    "    if name in df.columns:\n",
    "        candidate_y = name\n",
    "        break\n",
    "\n",
    "if candidate_x and candidate_y:\n",
    "    plt.figure()\n",
    "    plt.scatter(df[candidate_x], df[candidate_y], alpha=0.6)\n",
    "    plt.xlabel(candidate_x)\n",
    "    plt.ylabel(candidate_y)\n",
    "    plt.title(f'{candidate_x} × {candidate_y}')\n",
    "    plt.show()\n",
    "else:\n",
    "    print('⚠️ Ajuste os nomes das colunas para fazer o scatterplot.')"
   ]
  },
  {
   "cell_type": "markdown",
   "id": "040d8af2",
   "metadata": {},
   "source": [
    "## 3) Clusterização — KMeans (k=3..5)"
   ]
  },
  {
   "cell_type": "code",
   "execution_count": null,
   "id": "48445ba3",
   "metadata": {},
   "outputs": [],
   "source": [
    "# Seleciona apenas colunas numéricas para clustering\n",
    "X_num = df.select_dtypes(include=[np.number]).dropna()\n",
    "\n",
    "# Normalização (opcional, geralmente ajuda)\n",
    "scaler = StandardScaler()\n",
    "X_scaled = scaler.fit_transform(X_num)\n",
    "\n",
    "# Escolha de 3..5 clusters; você pode ajustar\n",
    "best_inertia = None\n",
    "best_k = None\n",
    "best_model = None\n",
    "\n",
    "for k in [3,4,5]:\n",
    "    kmeans = KMeans(n_clusters=k, n_init=10, random_state=42)\n",
    "    kmeans.fit(X_scaled)\n",
    "    if best_inertia is None or kmeans.inertia_ < best_inertia:\n",
    "        best_inertia = kmeans.inertia_\n",
    "        best_k = k\n",
    "        best_model = kmeans\n",
    "\n",
    "labels = best_model.labels_\n",
    "X_num_clustered = X_num.copy()\n",
    "X_num_clustered['cluster'] = labels\n",
    "display(X_num_clustered.head())\n",
    "\n",
    "print(f'Melhor k escolhido pelo menor inertia: {best_k} (inertia={best_inertia:.2f})')"
   ]
  },
  {
   "cell_type": "code",
   "execution_count": null,
   "id": "35538ce8",
   "metadata": {},
   "outputs": [],
   "source": [
    "# Scatter simples usando as duas primeiras features numéricas\n",
    "if X_num.shape[1] >= 2:\n",
    "    cols = X_num.columns[:2]\n",
    "    plt.figure()\n",
    "    sns.scatterplot(x=X_num[cols[0]], y=X_num[cols[1]], hue=labels, palette='tab10')\n",
    "    plt.title(f'Dispersão por clusters (k={best_k})')\n",
    "    plt.show()\n",
    "else:\n",
    "    print('⚠️ São necessárias pelo menos 2 colunas numéricas para o gráfico de dispersão.')"
   ]
  },
  {
   "cell_type": "markdown",
   "id": "99b4226d",
   "metadata": {},
   "source": [
    "> **Outliers potencialmente isolados:** verifique se algum cluster apresenta valores extremos de rendimento/produção.  \n",
    "Dica: analise as estatísticas por cluster:"
   ]
  },
  {
   "cell_type": "code",
   "execution_count": null,
   "id": "9b0cf40a",
   "metadata": {},
   "outputs": [],
   "source": [
    "# Estatísticas por cluster para inspecionar outliers\n",
    "cluster_stats = X_num_clustered.groupby('cluster').agg(['mean','std','min','max'])\n",
    "display(cluster_stats)"
   ]
  },
  {
   "cell_type": "markdown",
   "id": "6e6d881f",
   "metadata": {},
   "source": [
    "## 4) Modelagem Preditiva — Regressão Supervisionada"
   ]
  },
  {
   "cell_type": "code",
   "execution_count": null,
   "id": "df271aad",
   "metadata": {},
   "outputs": [],
   "source": [
    "# Defina a variável alvo (y)\n",
    "# Tente mapear nomes comuns; ajuste para o seu dataset:\n",
    "y_col = None\n",
    "for name in ['rendimento','yield','yld','produtividade']:\n",
    "    if name in df.columns:\n",
    "        y_col = name\n",
    "        break\n",
    "\n",
    "if y_col is None:\n",
    "    raise ValueError('Defina manualmente a coluna alvo (ex.: y_col = \"yield\")')\n",
    "\n",
    "X = df.drop(columns=[y_col])\n",
    "# One-hot para categóricas\n",
    "X = pd.get_dummies(X, drop_first=True)\n",
    "\n",
    "# Remove linhas com NA após dummies\n",
    "mask = X.notna().all(axis=1) & df[y_col].notna()\n",
    "X = X[mask]\n",
    "y = df.loc[mask, y_col]\n",
    "\n",
    "X_train, X_test, y_train, y_test = train_test_split(X, y, test_size=0.2, random_state=42)\n",
    "\n",
    "models = {\n",
    "    'LinearRegression': LinearRegression(),\n",
    "    'DecisionTree': DecisionTreeRegressor(random_state=42),\n",
    "    'RandomForest': RandomForestRegressor(n_estimators=300, random_state=42),\n",
    "    'Ridge': Ridge(alpha=1.0),\n",
    "    'Lasso': Lasso(alpha=0.001),\n",
    "    'GradientBoosting': GradientBoostingRegressor(random_state=42),\n",
    "}\n",
    "\n",
    "if HAS_XGB:\n",
    "    models['XGBoost'] = xgb.XGBRegressor(\n",
    "        n_estimators=500,\n",
    "        learning_rate=0.05,\n",
    "        max_depth=5,\n",
    "        subsample=0.8,\n",
    "        colsample_bytree=0.8,\n",
    "        random_state=42\n",
    "    )\n",
    "\n",
    "def eval_model(name, model, X_train, X_test, y_train, y_test):\n",
    "    model.fit(X_train, y_train)\n",
    "    pred = model.predict(X_test)\n",
    "    r2 = r2_score(y_test, pred)\n",
    "    rmse = mean_squared_error(y_test, pred, squared=False)\n",
    "    mae = mean_absolute_error(y_test, pred)\n",
    "    return {'model': name, 'R2': r2, 'RMSE': rmse, 'MAE': mae}\n",
    "\n",
    "results = []\n",
    "for name, model in models.items():\n",
    "    try:\n",
    "        results.append(eval_model(name, model, X_train, X_test, y_train, y_test))\n",
    "    except Exception as e:\n",
    "        results.append({'model': name, 'R2': np.nan, 'RMSE': np.nan, 'MAE': np.nan, 'error': str(e)})\n",
    "\n",
    "results_df = pd.DataFrame(results).sort_values(by=['R2','RMSE'], ascending=[False, True])\n",
    "display(results_df)"
   ]
  },
  {
   "cell_type": "markdown",
   "id": "97f848c7",
   "metadata": {},
   "source": [
    "## 5) Conclusões"
   ]
  },
  {
   "cell_type": "markdown",
   "id": "20e40941",
   "metadata": {},
   "source": [
    "- **EDA:** descreva aqui os principais achados (tendências, correlações, nulos, outliers).\n",
    "- **Clusterização:** destaque se algum cluster representa potenciais outliers em rendimento.\n",
    "- **Modelagem:** indique qual modelo teve melhor desempenho e por quê (viés/variância, interpretabilidade, etc.).\n",
    "- **Limitações:** tamanho do dataset, variáveis limitadas, qualidade dos dados, ausência de tuning, etc."
   ]
  }
 ],
 "metadata": {},
 "nbformat": 4,
 "nbformat_minor": 5
}
